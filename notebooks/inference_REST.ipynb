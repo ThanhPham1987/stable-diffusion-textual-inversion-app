{
 "cells": [
  {
   "cell_type": "markdown",
   "metadata": {},
   "source": [
    "## Dependencies"
   ]
  },
  {
   "cell_type": "code",
   "execution_count": null,
   "metadata": {},
   "outputs": [],
   "source": [
    "import json\n",
    "import requests\n",
    "import numpy as np\n",
    "import matplotlib.pyplot as plt\n",
    "from keras_cv.models.stable_diffusion.clip_tokenizer import SimpleTokenizer"
   ]
  },
  {
   "cell_type": "markdown",
   "metadata": {},
   "source": [
    "## Auxiliary functions"
   ]
  },
  {
   "cell_type": "code",
   "execution_count": null,
   "metadata": {},
   "outputs": [],
   "source": [
    "def predict_rest(json_data, url):\n",
    "    json_response = requests.post(url, data=json_data)\n",
    "    response = json.loads(json_response.text)\n",
    "    rest_outputs = np.array(response[\"predictions\"])\n",
    "    return rest_outputs\n",
    "\n",
    "\n",
    "def plot_images(images):\n",
    "    plt.figure(figsize=(20, 20))\n",
    "    for i in range(len(images)):\n",
    "        ax = plt.subplot(1, len(images), i + 1)\n",
    "        plt.imshow(images[i])\n",
    "        plt.axis(\"off\")"
   ]
  },
  {
   "cell_type": "markdown",
   "metadata": {},
   "source": [
    "## Parameters"
   ]
  },
  {
   "cell_type": "code",
   "execution_count": null,
   "metadata": {},
   "outputs": [],
   "source": [
    "tokenizer = SimpleTokenizer()\n",
    "tokenizer.add_tokens(\"<token>\")\n",
    "MAX_PROMPT_LENGTH = 77\n",
    "PADDING_TOKEN = 49407\n",
    "batch_size = 1\n",
    "num_steps = 1\n",
    "\n",
    "text_encoder_url = \"http://localhost:8501/v1/models/text_encoder:predict\"\n",
    "diffusion_model_url = \"http://localhost:8501/v1/models/diffusion_model:predict\"\n",
    "decoder_url = \"http://localhost:8501/v1/models/decoder:predict\""
   ]
  },
  {
   "cell_type": "markdown",
   "metadata": {},
   "source": [
    "## Inference"
   ]
  },
  {
   "cell_type": "markdown",
   "metadata": {},
   "source": [
    "### Text encoder"
   ]
  },
  {
   "cell_type": "code",
   "execution_count": null,
   "metadata": {},
   "outputs": [],
   "source": [
    "text = \"An image of a squirrel in Picasso style\"\n",
    "tokens = tokenizer.encode(text)\n",
    "tokens = tokens + [PADDING_TOKEN] * (MAX_PROMPT_LENGTH - len(tokens))\n",
    "\n",
    "data = [{\n",
    "    \"tokens\": tokens, \n",
    "    \"batch_size\": batch_size\n",
    "    }]\n",
    "json_data = json.dumps({\"signature_name\": \"serving_default\", \"instances\": data})\n",
    "\n",
    "encoded_text = predict_rest(json_data, text_encoder_url)\n",
    "print(f\"REST output shape: {encoded_text.shape}\")\n",
    "print(encoded_text[0].keys())\n",
    "print(np.array(encoded_text[0][\"context\"]).shape)\n",
    "print(np.array(encoded_text[0][\"unconditional_context\"]).shape)"
   ]
  },
  {
   "cell_type": "markdown",
   "metadata": {},
   "source": [
    "### Diffusion model"
   ]
  },
  {
   "cell_type": "code",
   "execution_count": null,
   "metadata": {},
   "outputs": [],
   "source": [
    "data = [{\n",
    "    \"context\": encoded_text[0][\"context\"], \n",
    "    \"unconditional_context\": encoded_text[0][\"unconditional_context\"],\n",
    "    # \"num_steps\": num_steps, \n",
    "    # \"batch_size\": batch_size, \n",
    "    }]\n",
    "json_data = json.dumps({\"signature_name\": \"serving_default\", \"instances\": data})\n",
    "\n",
    "latents = predict_rest(json_data, diffusion_model_url)\n",
    "print(f\"REST output shape: {latents.shape}\")"
   ]
  },
  {
   "cell_type": "markdown",
   "metadata": {},
   "source": [
    "### Decoder"
   ]
  },
  {
   "cell_type": "code",
   "execution_count": null,
   "metadata": {},
   "outputs": [],
   "source": [
    "data = [{\"latent\": latents[0].tolist()}]\n",
    "json_data = json.dumps({\"signature_name\": \"serving_default\", \"instances\": data})\n",
    "\n",
    "decoded_images = predict_rest(json_data, decoder_url)\n",
    "print(f\"REST output shape: {decoded_images.shape}\")"
   ]
  },
  {
   "cell_type": "markdown",
   "metadata": {},
   "source": [
    "## Generated images"
   ]
  },
  {
   "cell_type": "code",
   "execution_count": null,
   "metadata": {},
   "outputs": [],
   "source": [
    "plot_images(generate_images_from_text(\"An image of a squirrel in Picasso style\"))"
   ]
  }
 ],
 "metadata": {
  "kernelspec": {
   "display_name": "Python 3 (ipykernel)",
   "language": "python",
   "name": "python3"
  },
  "language_info": {
   "codemirror_mode": {
    "name": "ipython",
    "version": 3
   },
   "file_extension": ".py",
   "mimetype": "text/x-python",
   "name": "python",
   "nbconvert_exporter": "python",
   "pygments_lexer": "ipython3",
   "version": "3.9.14"
  },
  "vscode": {
   "interpreter": {
    "hash": "6443ba721da0e1b0cd2a4b79050df48e8ed2df8239cd437108facf5e6f484d74"
   }
  }
 },
 "nbformat": 4,
 "nbformat_minor": 4
}
