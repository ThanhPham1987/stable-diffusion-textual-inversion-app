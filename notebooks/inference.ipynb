{
 "cells": [
  {
   "cell_type": "code",
   "execution_count": 1,
   "metadata": {},
   "outputs": [
    {
     "name": "stdout",
     "output_type": "stream",
     "text": [
      "/Users/dimitreoliveira/Desktop/stable-diffusion-textual-inversion-app\n"
     ]
    }
   ],
   "source": [
    "cd ../"
   ]
  },
  {
   "cell_type": "markdown",
   "metadata": {},
   "source": [
    "## Dependencies"
   ]
  },
  {
   "cell_type": "code",
   "execution_count": 2,
   "metadata": {},
   "outputs": [],
   "source": [
    "import keras_cv\n",
    "import matplotlib.pyplot as plt\n",
    "from app.utils import load_finetuned_weights"
   ]
  },
  {
   "cell_type": "markdown",
   "metadata": {},
   "source": [
    "## Auxiliary functions"
   ]
  },
  {
   "cell_type": "code",
   "execution_count": 3,
   "metadata": {},
   "outputs": [],
   "source": [
    "def plot_images(images):\n",
    "    plt.figure(figsize=(20, 20))\n",
    "    for i in range(len(images)):\n",
    "        ax = plt.subplot(1, len(images), i + 1)\n",
    "        plt.imshow(images[i])\n",
    "        plt.axis(\"off\")"
   ]
  },
  {
   "cell_type": "markdown",
   "metadata": {},
   "source": [
    "## Parameters"
   ]
  },
  {
   "cell_type": "code",
   "execution_count": 4,
   "metadata": {},
   "outputs": [],
   "source": [
    "placeholder_token = \"<custom-token>\"\n",
    "token_embedding_weights_path = \"./models/token_embedding_weights.npy\"\n",
    "position_embedding_weights_path = \"./models/position_embedding_weights.npy\""
   ]
  },
  {
   "cell_type": "markdown",
   "metadata": {},
   "source": [
    "## Load and rebuild model"
   ]
  },
  {
   "cell_type": "code",
   "execution_count": 5,
   "metadata": {},
   "outputs": [
    {
     "name": "stdout",
     "output_type": "stream",
     "text": [
      "By using this model checkpoint, you acknowledge that its usage is subject to the terms of the CreativeML Open RAIL-M license at https://raw.githubusercontent.com/CompVis/stable-diffusion/main/LICENSE\n"
     ]
    }
   ],
   "source": [
    "stable_diffusion = load_finetuned_weights(token_embedding_weights_path,\n",
    "                                          position_embedding_weights_path,\n",
    "                                          placeholder_token)"
   ]
  },
  {
   "cell_type": "markdown",
   "metadata": {},
   "source": [
    "## Inference"
   ]
  },
  {
   "cell_type": "code",
   "execution_count": null,
   "metadata": {},
   "outputs": [
    {
     "name": "stderr",
     "output_type": "stream",
     "text": [
      "2023-01-01 22:00:01.115339: W tensorflow/tsl/platform/profile_utils/cpu_utils.cc:128] Failed to get CPU frequency: 0 Hz\n",
      "2023-01-01 22:00:01.328357: I tensorflow/compiler/xla/service/service.cc:173] XLA service 0x1587ea830 initialized for platform Host (this does not guarantee that XLA will be used). Devices:\n",
      "2023-01-01 22:00:01.328366: I tensorflow/compiler/xla/service/service.cc:181]   StreamExecutor device (0): Host, Default Version\n",
      "2023-01-01 22:00:01.404727: I tensorflow/compiler/mlir/tensorflow/utils/dump_mlir_util.cc:268] disabling MLIR crash reproducer, set env var `MLIR_CRASH_REPRODUCER_DIRECTORY` to enable.\n",
      "2023-01-01 22:00:03.017775: I tensorflow/compiler/jit/xla_compilation_cache.cc:477] Compiled cluster using XLA!  This line is logged at most once for the lifetime of the process.\n"
     ]
    },
    {
     "name": "stdout",
     "output_type": "stream",
     "text": [
      "WARNING:tensorflow:From /Users/dimitreoliveira/.pyenv/versions/3.9.14/lib/python3.9/site-packages/tensorflow/python/autograph/pyct/static_analysis/liveness.py:83: Analyzer.lamba_check (from tensorflow.python.autograph.pyct.static_analysis.liveness) is deprecated and will be removed after 2023-09-23.\n",
      "Instructions for updating:\n",
      "Lambda fuctions will be no more assumed to be used in the statement where they are used, or at least in the same block. https://github.com/tensorflow/tensorflow/issues/56089\n",
      "18/25 [====================>.........] - ETA: 3:44"
     ]
    }
   ],
   "source": [
    "generated = stable_diffusion.text_to_image(\n",
    "    f\"an oil painting of {placeholder_token}\",\n",
    "    batch_size=3,\n",
    ")\n",
    "plot_images(generated)"
   ]
  },
  {
   "cell_type": "code",
   "execution_count": null,
   "metadata": {},
   "outputs": [],
   "source": [
    "generated = stable_diffusion.text_to_image(\n",
    "    f\"Gandalf as a {placeholder_token} fantasy art drawn by disney concept artists, \"\n",
    "    \"golden colour, high quality, highly detailed, elegant, sharp focus, concept art, \"\n",
    "    \"character concepts, digital painting, mystery, adventure\",\n",
    "    batch_size=3,\n",
    ")\n",
    "plot_images(generated)"
   ]
  },
  {
   "cell_type": "code",
   "execution_count": null,
   "metadata": {},
   "outputs": [],
   "source": [
    "generated = stable_diffusion.text_to_image(\n",
    "    f\"A masterpiece of a {placeholder_token} crying out to the heavens. \"\n",
    "    f\"Behind the {placeholder_token}, an dark, evil shade looms over it - sucking the \"\n",
    "    \"life right out of it.\",\n",
    "    batch_size=3,\n",
    ")\n",
    "plot_images(generated)"
   ]
  },
  {
   "cell_type": "code",
   "execution_count": null,
   "metadata": {},
   "outputs": [],
   "source": [
    "generated = stable_diffusion.text_to_image(\n",
    "    f\"An evil {placeholder_token}.\", batch_size=3\n",
    ")\n",
    "plot_images(generated)"
   ]
  },
  {
   "cell_type": "code",
   "execution_count": null,
   "metadata": {},
   "outputs": [],
   "source": [
    "generated = stable_diffusion.text_to_image(\n",
    "    f\"A mysterious {placeholder_token} approaches the great pyramids of egypt.\",\n",
    "    batch_size=3,\n",
    ")\n",
    "plot_images(generated)"
   ]
  }
 ],
 "metadata": {
  "kernelspec": {
   "display_name": "Python 3 (ipykernel)",
   "language": "python",
   "name": "python3"
  },
  "language_info": {
   "codemirror_mode": {
    "name": "ipython",
    "version": 3
   },
   "file_extension": ".py",
   "mimetype": "text/x-python",
   "name": "python",
   "nbconvert_exporter": "python",
   "pygments_lexer": "ipython3",
   "version": "3.9.14"
  },
  "vscode": {
   "interpreter": {
    "hash": "26aa0cc544682ba7da5cb0991b49ad253967b0a1add03010f8234aed1667941f"
   }
  }
 },
 "nbformat": 4,
 "nbformat_minor": 4
}
